{
 "cells": [
  {
   "cell_type": "code",
   "execution_count": 15,
   "metadata": {},
   "outputs": [],
   "source": [
    "import keras\n",
    "from keras.models import Sequential\n",
    "import pandas as pd\n",
    "import numpy as np\n"
   ]
  },
  {
   "cell_type": "code",
   "execution_count": 16,
   "metadata": {},
   "outputs": [],
   "source": [
    "ESR=pd.read_csv('Epileptic Seizure Recognition.csv')\n",
    "X =ESR.iloc[:,1:179].values\n",
    "target=ESR.y[:]\n",
    "target[target>1]=0\n",
    "Y=target\n",
    "X_train = np.array(X[:10000])\n",
    "X_test=np.array(X[10000:])\n",
    "Y_train = Y[:10000]\n",
    "Y_test=target[10000:]"
   ]
  },
  {
   "cell_type": "code",
   "execution_count": 17,
   "metadata": {},
   "outputs": [],
   "source": [
    "classifier=Sequential([\n",
    "    keras.layers.Conv1D(64,(5),activation='relu',input_shape=(178,1)),\n",
    "    keras.layers.MaxPooling1D(2),\n",
    "    keras.layers.Conv1D(64,(5),activation='relu'),\n",
    "    keras.layers.MaxPooling1D(2),\n",
    "    keras.layers.Flatten(),\n",
    "    keras.layers.Dense(512,activation='relu'),\n",
    "    keras.layers.Dropout(0.1),\n",
    "    keras.layers.Dense(1,activation='sigmoid'),\n",
    "])\n",
    "\n",
    "classifier.compile(optimizer='adam',loss='binary_crossentropy',metrics=['accuracy'])"
   ]
  },
  {
   "cell_type": "code",
   "execution_count": 18,
   "metadata": {},
   "outputs": [
    {
     "name": "stdout",
     "output_type": "stream",
     "text": [
      "Epoch 1/15\n",
      "313/313 [==============================] - 8s 21ms/step - loss: 1.1103 - accuracy: 0.8902\n",
      "Epoch 2/15\n",
      "313/313 [==============================] - 7s 21ms/step - loss: 0.1169 - accuracy: 0.9610\n",
      "Epoch 3/15\n",
      "313/313 [==============================] - 7s 21ms/step - loss: 0.0889 - accuracy: 0.9686\n",
      "Epoch 4/15\n",
      "313/313 [==============================] - 7s 21ms/step - loss: 0.0746 - accuracy: 0.9749\n",
      "Epoch 5/15\n",
      "313/313 [==============================] - 7s 22ms/step - loss: 0.0614 - accuracy: 0.9774\n",
      "Epoch 6/15\n",
      "313/313 [==============================] - 7s 22ms/step - loss: 0.0527 - accuracy: 0.9824\n",
      "Epoch 7/15\n",
      "313/313 [==============================] - 8s 24ms/step - loss: 0.0567 - accuracy: 0.9822\n",
      "Epoch 8/15\n",
      "313/313 [==============================] - 7s 22ms/step - loss: 0.0455 - accuracy: 0.9854\n",
      "Epoch 9/15\n",
      "313/313 [==============================] - 6s 20ms/step - loss: 0.0504 - accuracy: 0.9841\n",
      "Epoch 10/15\n",
      "313/313 [==============================] - 7s 21ms/step - loss: 0.0314 - accuracy: 0.9911\n",
      "Epoch 11/15\n",
      "313/313 [==============================] - 7s 21ms/step - loss: 0.0282 - accuracy: 0.9921\n",
      "Epoch 12/15\n",
      "313/313 [==============================] - 7s 21ms/step - loss: 0.0246 - accuracy: 0.9934\n",
      "Epoch 13/15\n",
      "313/313 [==============================] - 7s 21ms/step - loss: 0.0539 - accuracy: 0.9855\n",
      "Epoch 14/15\n",
      "313/313 [==============================] - 7s 21ms/step - loss: 0.0551 - accuracy: 0.9825\n",
      "Epoch 15/15\n",
      "313/313 [==============================] - 7s 21ms/step - loss: 0.0393 - accuracy: 0.9903\n"
     ]
    }
   ],
   "source": [
    "history=classifier.fit(X_train,Y_train,epochs=15)"
   ]
  },
  {
   "cell_type": "code",
   "execution_count": 19,
   "metadata": {},
   "outputs": [
    {
     "name": "stdout",
     "output_type": "stream",
     "text": [
      "47/47 [==============================] - 0s 5ms/step - loss: 0.0807 - accuracy: 0.9767\n"
     ]
    },
    {
     "data": {
      "text/plain": [
       "[0.08073192089796066, 0.9766666889190674]"
      ]
     },
     "execution_count": 19,
     "metadata": {},
     "output_type": "execute_result"
    }
   ],
   "source": [
    "classifier.evaluate(X_test,Y_test)"
   ]
  }
 ],
 "metadata": {
  "kernelspec": {
   "display_name": "Python 3",
   "language": "python",
   "name": "python3"
  },
  "language_info": {
   "codemirror_mode": {
    "name": "ipython",
    "version": 3
   },
   "file_extension": ".py",
   "mimetype": "text/x-python",
   "name": "python",
   "nbconvert_exporter": "python",
   "pygments_lexer": "ipython3",
   "version": "3.11.6"
  }
 },
 "nbformat": 4,
 "nbformat_minor": 2
}
